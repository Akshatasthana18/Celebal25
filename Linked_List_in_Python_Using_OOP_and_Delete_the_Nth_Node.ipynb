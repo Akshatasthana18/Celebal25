{
  "nbformat": 4,
  "nbformat_minor": 0,
  "metadata": {
    "colab": {
      "provenance": [],
      "authorship_tag": "ABX9TyNk2WRQwUwXmfvM83qJrQ1g",
      "include_colab_link": true
    },
    "kernelspec": {
      "name": "python3",
      "display_name": "Python 3"
    },
    "language_info": {
      "name": "python"
    }
  },
  "cells": [
    {
      "cell_type": "markdown",
      "metadata": {
        "id": "view-in-github",
        "colab_type": "text"
      },
      "source": [
        "<a href=\"https://colab.research.google.com/github/Akshatasthana18/Celebal25/blob/main/Linked_List_in_Python_Using_OOP_and_Delete_the_Nth_Node.ipynb\" target=\"_parent\"><img src=\"https://colab.research.google.com/assets/colab-badge.svg\" alt=\"Open In Colab\"/></a>"
      ]
    },
    {
      "cell_type": "code",
      "execution_count": 41,
      "metadata": {
        "colab": {
          "base_uri": "https://localhost:8080/"
        },
        "id": "mHfHpPauiGHY",
        "outputId": "4aed3d05-fad7-45f2-a423-4606bb7aa336"
      },
      "outputs": [
        {
          "output_type": "stream",
          "name": "stdout",
          "text": [
            "Added node with data: 10\n",
            "Added node with data: 20\n",
            "Added node with data: 30\n",
            "Added node with data: 40\n"
          ]
        }
      ],
      "source": [
        "class Node:\n",
        "    def __init__(self, data):\n",
        "        self.data = data\n",
        "        self.next = None\n",
        "\n",
        "\n",
        "class LinkedList:\n",
        "    def __init__(self):\n",
        "        self.head = None\n",
        "\n",
        "    def add_node(self, data):\n",
        "        new_node = Node(data)\n",
        "        print(f\"Added node with data: {data}\")\n",
        "        if not self.head:\n",
        "            self.head = new_node\n",
        "            return\n",
        "        current = self.head\n",
        "        while current.next:\n",
        "            current = current.next\n",
        "        current.next = new_node\n",
        "\n",
        "    def print_list(self):\n",
        "        if not self.head:\n",
        "            print(\"The list is empty.\")\n",
        "            return\n",
        "        current = self.head\n",
        "        while current:\n",
        "            print(current.data, end=\" -> \")\n",
        "            current = current.next\n",
        "        print(\"None\")\n",
        "\n",
        "    def delete_nth_node(self, n):\n",
        "        try:\n",
        "            if not self.head:\n",
        "                raise Exception(\"Cannot delete from an empty list.\")\n",
        "\n",
        "            if n <= 0:\n",
        "                raise IndexError(\"Index must be a positive integer.\")\n",
        "\n",
        "            if n == 1:\n",
        "                deleted_data = self.head.data\n",
        "                self.head = self.head.next\n",
        "                print(f\"Deleted node with data: {deleted_data}\")\n",
        "                return\n",
        "\n",
        "            current = self.head\n",
        "            count = 1\n",
        "            while current and count < n - 1:\n",
        "                current = current.next\n",
        "                count += 1\n",
        "\n",
        "            if not current or not current.next:\n",
        "                raise IndexError(\"Index out of range.\")\n",
        "\n",
        "            deleted_data = current.next.data\n",
        "            current.next = current.next.next\n",
        "            print(f\"Deleted node with data: {deleted_data}\")\n",
        "\n",
        "        except Exception as e:\n",
        "            print(\"Error:\", e)\n",
        "\n",
        "\n",
        "\n",
        "if __name__ == \"__main__\":\n",
        "    ll = LinkedList()\n",
        "    ll.add_node(10)\n",
        "    ll.add_node(20)\n",
        "    ll.add_node(30)\n",
        "    ll.add_node(40)"
      ]
    },
    {
      "cell_type": "code",
      "source": [
        "print(\"Original List:\")\n",
        "ll.print_list()"
      ],
      "metadata": {
        "colab": {
          "base_uri": "https://localhost:8080/"
        },
        "id": "6LD0faF_isRt",
        "outputId": "fc9b34da-f46c-43e5-e8d9-245b38aef270"
      },
      "execution_count": 42,
      "outputs": [
        {
          "output_type": "stream",
          "name": "stdout",
          "text": [
            "Original List:\n",
            "10 -> 20 -> 30 -> 40 -> None\n"
          ]
        }
      ]
    },
    {
      "cell_type": "code",
      "source": [
        "print(\"Deleting 2nd node:\")\n",
        "ll.delete_nth_node(2)\n",
        "ll.print_list()\n",
        "ll.add_node(50)\n",
        "ll.print_list()"
      ],
      "metadata": {
        "colab": {
          "base_uri": "https://localhost:8080/"
        },
        "id": "J3d3pLMWisOa",
        "outputId": "4495628c-b5be-42f2-d240-440075d5152c"
      },
      "execution_count": 43,
      "outputs": [
        {
          "output_type": "stream",
          "name": "stdout",
          "text": [
            "Deleting 2nd node:\n",
            "Deleted node with data: 20\n",
            "10 -> 30 -> 40 -> None\n",
            "Added node with data: 50\n",
            "10 -> 30 -> 40 -> 50 -> None\n"
          ]
        }
      ]
    },
    {
      "cell_type": "code",
      "source": [
        "print(\"Deleting 1st node:\")\n",
        "ll.delete_nth_node(1)\n",
        "ll.print_list()"
      ],
      "metadata": {
        "colab": {
          "base_uri": "https://localhost:8080/"
        },
        "id": "qDBfZAHmisLc",
        "outputId": "eea408bf-b2e9-48cc-df79-7b9b0b6bb05a"
      },
      "execution_count": 44,
      "outputs": [
        {
          "output_type": "stream",
          "name": "stdout",
          "text": [
            "Deleting 1st node:\n",
            "Deleted node with data: 10\n",
            "30 -> 40 -> 50 -> None\n"
          ]
        }
      ]
    },
    {
      "cell_type": "code",
      "source": [
        "print(\"Deleting remaining nodes:\")\n",
        "ll.delete_nth_node(1)\n",
        "ll.delete_nth_node(1)\n",
        "ll.print_list()"
      ],
      "metadata": {
        "colab": {
          "base_uri": "https://localhost:8080/"
        },
        "id": "7pbZIzMYisBW",
        "outputId": "0aa5de51-0a4c-4905-9166-c45d81e0d79e"
      },
      "execution_count": 45,
      "outputs": [
        {
          "output_type": "stream",
          "name": "stdout",
          "text": [
            "Deleting remaining nodes:\n",
            "Deleted node with data: 30\n",
            "Deleted node with data: 40\n",
            "50 -> None\n"
          ]
        }
      ]
    },
    {
      "cell_type": "code",
      "source": [
        "\n",
        "ll.delete_nth_node(1)\n",
        "ll.print_list()"
      ],
      "metadata": {
        "colab": {
          "base_uri": "https://localhost:8080/"
        },
        "id": "aTK3cRFxir2t",
        "outputId": "da723b5a-72dd-4f89-cd86-bc9f1a20464e"
      },
      "execution_count": 46,
      "outputs": [
        {
          "output_type": "stream",
          "name": "stdout",
          "text": [
            "Deleted node with data: 50\n",
            "The list is empty.\n"
          ]
        }
      ]
    },
    {
      "cell_type": "code",
      "source": [
        "print(\"Trying to delete from an empty list:\")\n",
        "ll.delete_nth_node(1)\n",
        "ll.print_list()"
      ],
      "metadata": {
        "colab": {
          "base_uri": "https://localhost:8080/"
        },
        "id": "VBSNWiATkqvA",
        "outputId": "9f60dada-7b31-4db8-822f-09c9a8685f6a"
      },
      "execution_count": 47,
      "outputs": [
        {
          "output_type": "stream",
          "name": "stdout",
          "text": [
            "Trying to delete from an empty list:\n",
            "Error: Cannot delete from an empty list.\n",
            "The list is empty.\n"
          ]
        }
      ]
    }
  ]
}