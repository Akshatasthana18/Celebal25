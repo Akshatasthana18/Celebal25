{
  "nbformat": 4,
  "nbformat_minor": 0,
  "metadata": {
    "colab": {
      "provenance": [],
      "authorship_tag": "ABX9TyP3Zz3lXXc3LqRhMq/Esexe",
      "include_colab_link": true
    },
    "kernelspec": {
      "name": "python3",
      "display_name": "Python 3"
    },
    "language_info": {
      "name": "python"
    }
  },
  "cells": [
    {
      "cell_type": "markdown",
      "metadata": {
        "id": "view-in-github",
        "colab_type": "text"
      },
      "source": [
        "<a href=\"https://colab.research.google.com/github/Akshatasthana18/Celebal25/blob/main/Triangle_Patterns_.ipynb\" target=\"_parent\"><img src=\"https://colab.research.google.com/assets/colab-badge.svg\" alt=\"Open In Colab\"/></a>"
      ]
    },
    {
      "cell_type": "markdown",
      "source": [
        "# **Lower Triangular Pattern**"
      ],
      "metadata": {
        "id": "670CaxVQXAdf"
      }
    },
    {
      "cell_type": "code",
      "execution_count": null,
      "metadata": {
        "colab": {
          "base_uri": "https://localhost:8080/"
        },
        "id": "SLXFLJC4W4AE",
        "outputId": "9231dc97-00d9-4f1e-e1fe-89eb1d60518a"
      },
      "outputs": [
        {
          "output_type": "stream",
          "name": "stdout",
          "text": [
            "*\n",
            "**\n",
            "***\n",
            "****\n",
            "*****\n"
          ]
        }
      ],
      "source": [
        "row = 5\n",
        "for i in range (1,row +1):\n",
        "  print(\"*\"*i)"
      ]
    },
    {
      "cell_type": "markdown",
      "source": [
        "# **Upper Triangular Pattern**"
      ],
      "metadata": {
        "id": "VfabfBkuXdzM"
      }
    },
    {
      "cell_type": "code",
      "source": [
        "row = 5\n",
        "for i in range(1, row + 1):\n",
        "    print(\" \" * (row - i) + \"*\" * i)\n"
      ],
      "metadata": {
        "colab": {
          "base_uri": "https://localhost:8080/"
        },
        "id": "rXaWn2P1XbY0",
        "outputId": "a690d123-4352-4396-fb9b-aba496837a58"
      },
      "execution_count": null,
      "outputs": [
        {
          "output_type": "stream",
          "name": "stdout",
          "text": [
            "    *\n",
            "   **\n",
            "  ***\n",
            " ****\n",
            "*****\n"
          ]
        }
      ]
    },
    {
      "cell_type": "markdown",
      "source": [
        "# **Pyramid Pattern**"
      ],
      "metadata": {
        "id": "D9aTCrSQXinU"
      }
    },
    {
      "cell_type": "code",
      "source": [
        "row = 5\n",
        "for i in range(1, row + 1):\n",
        "    print(\" \" * (row - i) + \"*\" * (2 * i - 1))\n"
      ],
      "metadata": {
        "colab": {
          "base_uri": "https://localhost:8080/"
        },
        "id": "k143Is2jXsT_",
        "outputId": "640b05aa-f337-4858-cd24-23db0afd1cea"
      },
      "execution_count": null,
      "outputs": [
        {
          "output_type": "stream",
          "name": "stdout",
          "text": [
            "    *\n",
            "   ***\n",
            "  *****\n",
            " *******\n",
            "*********\n"
          ]
        }
      ]
    }
  ]
}